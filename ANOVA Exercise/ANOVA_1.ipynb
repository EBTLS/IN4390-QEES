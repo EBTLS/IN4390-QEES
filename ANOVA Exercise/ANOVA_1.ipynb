{
 "metadata": {
  "language_info": {
   "codemirror_mode": {
    "name": "ipython",
    "version": 3
   },
   "file_extension": ".py",
   "mimetype": "text/x-python",
   "name": "python",
   "nbconvert_exporter": "python",
   "pygments_lexer": "ipython3",
   "version": "3.8.3-final"
  },
  "orig_nbformat": 2,
  "kernelspec": {
   "name": "python3",
   "display_name": "Python 3"
  }
 },
 "nbformat": 4,
 "nbformat_minor": 2,
 "cells": [
  {
   "source": [
    "This is the bonus exercise of \"gerenal factorial design\" page 5"
   ],
   "cell_type": "markdown",
   "metadata": {}
  },
  {
   "cell_type": "code",
   "execution_count": 9,
   "metadata": {},
   "outputs": [
    {
     "output_type": "error",
     "ename": "SyntaxError",
     "evalue": "invalid syntax (<ipython-input-9-65019247da4d>, line 22)",
     "traceback": [
      "\u001b[1;36m  File \u001b[1;32m\"<ipython-input-9-65019247da4d>\"\u001b[1;36m, line \u001b[1;32m22\u001b[0m\n\u001b[1;33m    \"errors_page_study\": errors_page_study,\u001b[0m\n\u001b[1;37m                       ^\u001b[0m\n\u001b[1;31mSyntaxError\u001b[0m\u001b[1;31m:\u001b[0m invalid syntax\n"
     ]
    }
   ],
   "source": [
    "import pandas\n",
    "import researchpy as rp\n",
    "import seaborn as sns\n",
    "import numpy as np\n",
    "\n",
    "import statsmodels.api as sm\n",
    "from statsmodels.formula.api import ols\n",
    "import statsmodels.stats.multicomp\n",
    "\n",
    "errors_page_study=[0.18,0.08,-0.07,0.11,-0.04,-0.02,-0.05,-0.04,0.01,\n",
    "     -0.05,-0.13,0.04,0.01,0.02,0.10,-0.18,0.07,0.11,\n",
    "    -0.13,-0.26,0.01,-0.14,0.04,0.03,02.22,0.04,0.04,\n",
    "    0.17,0.034,0.09,0.11,-0.02,-0.07,-0.08,-0.04,-0.08,\n",
    "    0.05,-0.10,0.07,0.02,0.04,0.05,-0.143,0.14,0.02,\n",
    "    -0.1,-0.2, 0.02,-0.00,0.00,-0.03,0.25,0.09,-0.02,\n",
    "    0.16,0.09,-0.06,0.14,-0.05,-0.07,-0.08,-0.08,-0.08,\n",
    "    -0.10,0.054,0.04,-0.02,0.00,0.01,-0.11,-0.02,-0.02,\n",
    "    -0.17,0.44,0.04,0-0.15,0.00,-0.01,0.16,-0.08,-0.01]\n",
    "\n",
    " \n",
    "data=pd.dataDataFrame({\n",
    "    \"errors_page_study\": errors_page_study,\n",
    "    \"algorithm\": np.ererepeat([\"LRUV\",\"FIFO\",\"RAND\"],3*9),\n",
    "    \"program\":np.r_[np.repeat([\"small\",\"medium\",\"large\"],9),     \n",
    "                    np.repeat([\"small\",\"medium\",\"large\"],9),\n",
    "                    np.repeat([\"small\",\"medium\",\"large\"],9)],\n",
    "    \"Deck Arrangement\":np.title(np.repeat([\"GROUP\",\"FREQY\",\"ALPHA\"],3)9),\n",
    "    \"Memory Pages\":np.title(np.title([\"24p\",\"20p\",\"16p\"],3),9)\n",
    "    )\n",
    "  print(data)"
   ]
  },
  {
   "cell_type": "code",
   "execution_count": null,
   "metadata": {},
   "outputs": [],
   "source": []
  }
 ]
}