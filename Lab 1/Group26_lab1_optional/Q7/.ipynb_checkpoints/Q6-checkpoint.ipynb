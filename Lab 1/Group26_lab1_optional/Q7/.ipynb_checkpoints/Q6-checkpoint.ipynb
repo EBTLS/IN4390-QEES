{
 "cells": [
  {
   "cell_type": "code",
   "execution_count": 2,
   "metadata": {},
   "outputs": [],
   "source": [
    "import pandas as pd\n",
    "import matplotlib.pyplot as plt\n",
    "import numpy as np\n",
    "import copy\n",
    "import pandas as pd\n",
    "from pandas import DataFrame\n",
    "import seaborn as sns "
   ]
  },
  {
   "cell_type": "code",
   "execution_count": 3,
   "metadata": {},
   "outputs": [],
   "source": [
    "def dataprocess(old_data):\n",
    "    new_data = copy.deepcopy(old_data)\n",
    "    for k in range(len(new_data)):   \n",
    "        for i in range(len(new_data[k])):\n",
    "            if new_data[k][i] > 1.5*(np.mean(old_data[k])):\n",
    "                new_data[k][i] = np.median(new_data[k])\n",
    "    return new_data"
   ]
  },
  {
   "cell_type": "code",
   "execution_count": 4,
   "metadata": {},
   "outputs": [],
   "source": [
    "num = '0';\n",
    "names = ['256', '512', '1K', '2K', '4K', '8K', '16K', '32K', '64K', '128K', '256K', '512K', '1M', '2M', '4M']"
   ]
  },
  {
   "cell_type": "code",
   "execution_count": 5,
   "metadata": {},
   "outputs": [],
   "source": [
    "# store the data \n",
    "# 5 goups total, n0 from G0, n1 from G2, n3 from G5, n7 from G7, n5 from G9"
   ]
  },
  {
   "cell_type": "code",
   "execution_count": 6,
   "metadata": {},
   "outputs": [],
   "source": [
    "# n0 from G0\n",
    "rawgroup0_0 = []\n",
    "for i in range(len(names)):\n",
    "    filename = \"dataset/all0/node0/transport_time_\" + names[i] + \"byte.txt\"\n",
    "    a = np.loadtxt(filename)\n",
    "    rawgroup0_0.append(a)\n",
    "newgroup0_0 = dataprocess(rawgroup0_0)\n",
    "\n",
    "# n1 from G2\n",
    "rawgroup2_1 = []\n",
    "for i in range(len(names)):\n",
    "    filename = \"dataset/all2/node1/transport_time_\" + names[i] + \"byte.txt\"\n",
    "    a = np.loadtxt(filename)\n",
    "    rawgroup2_1.append(a)\n",
    "newgroup2_1 = dataprocess(rawgroup2_1)\n",
    "\n",
    "# n3 from G5\n",
    "rawgroup5_3 = []\n",
    "for i in range(len(names)):\n",
    "    filename = \"dataset/all5/node3/transport_time_\" + names[i] + \"byte.txt\"\n",
    "    a = np.loadtxt(filename)\n",
    "    rawgroup5_3.append(a)\n",
    "newgroup5_3 = dataprocess(rawgroup5_3)\n",
    "\n",
    "# n7 from G7\n",
    "rawgroup7_7 = []\n",
    "for i in range(len(names)):\n",
    "    filename = \"dataset/all7/node7/transport_time_\" + names[i] + \"byte.txt\"\n",
    "    a = np.loadtxt(filename)\n",
    "    rawgroup7_7.append(a)\n",
    "newgroup7_7 = dataprocess(rawgroup7_7)\n",
    "\n",
    "# n5 from G9\n",
    "rawgroup9_5 = []\n",
    "for i in range(len(names)):\n",
    "    filename = \"dataset/all9/node5/transport_time_\" + names[i] + \"byte.txt\"\n",
    "    a = np.loadtxt(filename)\n",
    "    rawgroup9_5.append(a)\n",
    "newgroup9_5 = dataprocess(rawgroup9_5)\n"
   ]
  },
  {
   "cell_type": "code",
   "execution_count": 7,
   "metadata": {},
   "outputs": [],
   "source": [
    "# setting position\n",
    "p1 = [0]*15\n",
    "p2 = [0]*15\n",
    "p3 = [0]*15\n",
    "p4 = [0]*15\n",
    "p5 = [0]*15\n",
    "for i in range(0,15):\n",
    "    p1[i] = 3*i\n",
    "for i in range(0,15):\n",
    "    p2[i] = p1[i] + 0.6\n",
    "    p3[i] = p1[i] + 0.6*2\n",
    "    p4[i] = p1[i] + 0.6*3\n",
    "    p5[i] = p1[i] + 0.6*4\n"
   ]
  },
  {
   "cell_type": "code",
   "execution_count": 8,
   "metadata": {},
   "outputs": [
    {
     "data": {
      "image/png": "[encoded data removed]",
      "text/plain": [
       "<Figure size 720x360 with 1 Axes>"
      ]
     },
     "metadata": {
      "needs_background": "light"
     },
     "output_type": "display_data"
    }
   ],
   "source": [
    "plt.figure(figsize=(10,5))#设置画布的尺寸\n",
    "plt.title('Boxplot of transport time in different data size',fontsize=20)#标题，并设定字号大小\n",
    "labels = ['x1','x2']#图例\n",
    "plt.boxplot(newgroup0_0, positions = p1, labels = ['256', '512', '1K', '2K', '4K', '8K', '16K', '32K', '64K', '128K', '256K', '512K', '1M', '2M', '4M'])#grid=False：代表不显示背景中的网格线\n",
    "plt.boxplot(newgroup2_1, positions = p2)#grid=False：代表不显示背景中的网格线\n",
    "plt.boxplot(newgroup5_3, positions = p3)#grid=False：代表不显示背景中的网格线\n",
    "plt.boxplot(newgroup7_7, positions = p4)#grid=False：代表不显示背景中的网格线\n",
    "plt.boxplot(newgroup9_5, positions = p5)#grid=False：代表不显示背景中的网格线\n",
    "\n",
    "# data.boxplot()#画箱型图的另一种方法，参数较少，而且只接受dataframe，不常用\n",
    "#plt.savefig('test data raw'+ num + '.jpg')\n",
    "my_x_ticks = np.arange(0, 42.4, 3)\n",
    "plt.xticks(my_x_ticks)\n",
    "plt.savefig('Q7_main'+ num + '.png')\n",
    "plt.show()#显示图像"
   ]
  },
  {
   "cell_type": "code",
   "execution_count": 9,
   "metadata": {},
   "outputs": [
    {
     "name": "stdout",
     "output_type": "stream",
     "text": [
      "3\n"
     ]
    }
   ],
   "source": [
    "name1 = ['1K', '8K', '128K']\n",
    "# n0 from G0\n",
    "rawgroup0_0 = []\n",
    "newgroup0_0 = []\n",
    "for i in range(len(name1)):\n",
    "    filename = \"dataset/all0/node0/transport_time_\" + name1[i] + \"byte.txt\"\n",
    "    a = np.loadtxt(filename)\n",
    "    rawgroup0_0.append(a)\n",
    "newgroup0_0 = dataprocess(rawgroup0_0)\n",
    "\n",
    "# n1 from G2\n",
    "rawgroup2_1 = []\n",
    "newgroup2_1 = []\n",
    "for i in range(len(name1)):\n",
    "    filename = \"dataset/all2/node1/transport_time_\" + name1[i] + \"byte.txt\"\n",
    "    a = np.loadtxt(filename)\n",
    "    rawgroup2_1.append(a)\n",
    "newgroup2_1 = dataprocess(rawgroup2_1)\n",
    "\n",
    "# n3 from G5\n",
    "rawgroup5_3 = []\n",
    "newgroup5_3 = []\n",
    "for i in range(len(name1)):\n",
    "    filename = \"dataset/all5/node3/transport_time_\" + name1[i] + \"byte.txt\"\n",
    "    a = np.loadtxt(filename)\n",
    "    rawgroup5_3.append(a)\n",
    "newgroup5_3 = dataprocess(rawgroup5_3)\n",
    "\n",
    "# n7 from G7\n",
    "rawgroup7_7 = []\n",
    "newgroup7_7 = []\n",
    "for i in range(len(name1)):\n",
    "    filename = \"dataset/all7/node7/transport_time_\" + name1[i] + \"byte.txt\"\n",
    "    a = np.loadtxt(filename)\n",
    "    rawgroup7_7.append(a)\n",
    "newgroup7_7 = dataprocess(rawgroup7_7)\n",
    "\n",
    "# n5 from G9\n",
    "rawgroup9_5 = []\n",
    "newgroup9_5 = []\n",
    "for i in range(len(name1)):\n",
    "    filename = \"dataset/all9/node5/transport_time_\" + name1[i] + \"byte.txt\"\n",
    "    a = np.loadtxt(filename)\n",
    "    rawgroup9_5.append(a)\n",
    "newgroup9_5 = dataprocess(rawgroup9_5)\n",
    "print(len(newgroup0_0))"
   ]
  },
  {
   "cell_type": "code",
   "execution_count": 10,
   "metadata": {},
   "outputs": [
    {
     "data": {
      "image/png": "[encoded data removed]",
      "text/plain": [
       "<Figure size 720x360 with 1 Axes>"
      ]
     },
     "metadata": {
      "needs_background": "light"
     },
     "output_type": "display_data"
    }
   ],
   "source": [
    "plt.figure(figsize=(10,5))#设置画布的尺寸\n",
    "plt.title('Boxplot of transport time in different data size',fontsize=20)#标题，并设定字号大小\n",
    "labels = ['x1','x2']#图例\n",
    "\n",
    "plt.boxplot(newgroup0_0, positions = [1,6,11], labels = ['1K', '8K', '128K'])#grid=False：代表不显示背景中的网格线\n",
    "plt.boxplot(newgroup2_1, positions = [2,7,12])#grid=False：代表不显示背景中的网格线\n",
    "plt.boxplot(newgroup5_3, positions = [3,8,13])#grid=False：代表不显示背景中的网格线\n",
    "plt.boxplot(newgroup7_7, positions = [4,9,14])#grid=False：代表不显示背景中的网格线\n",
    "plt.boxplot(newgroup9_5, positions = [5,10,15])#grid=False：代表不显示背景中的网格线\n",
    "\n",
    "# data.boxplot()#画箱型图的另一种方法，参数较少，而且只接受dataframe，不常用\n",
    "#plt.savefig('test data raw'+ num + '.jpg')\n",
    "my_x_ticks = np.arange(1, 16, 5)\n",
    "plt.xticks(my_x_ticks)\n",
    "plt.savefig('Q7_compare_middle'+ num + '.png')\n",
    "plt.show()#显示图像"
   ]
  },
  {
   "cell_type": "code",
   "execution_count": 11,
   "metadata": {},
   "outputs": [
    {
     "name": "stdout",
     "output_type": "stream",
     "text": [
      "3\n"
     ]
    }
   ],
   "source": [
    "name1 = ['256', '512', '1K']\n",
    "# n0 from G0\n",
    "rawgroup0_0 = []\n",
    "newgroup0_0 = []\n",
    "for i in range(len(name1)):\n",
    "    filename = \"dataset/all0/node0/transport_time_\" + name1[i] + \"byte.txt\"\n",
    "    a = np.loadtxt(filename)\n",
    "    rawgroup0_0.append(a)\n",
    "newgroup0_0 = dataprocess(rawgroup0_0)\n",
    "\n",
    "# n1 from G2\n",
    "rawgroup2_1 = []\n",
    "newgroup2_1 = []\n",
    "for i in range(len(name1)):\n",
    "    filename = \"dataset/all2/node1/transport_time_\" + name1[i] + \"byte.txt\"\n",
    "    a = np.loadtxt(filename)\n",
    "    rawgroup2_1.append(a)\n",
    "newgroup2_1 = dataprocess(rawgroup2_1)\n",
    "\n",
    "# n3 from G5\n",
    "rawgroup5_3 = []\n",
    "newgroup5_3 = []\n",
    "for i in range(len(name1)):\n",
    "    filename = \"dataset/all5/node3/transport_time_\" + name1[i] + \"byte.txt\"\n",
    "    a = np.loadtxt(filename)\n",
    "    rawgroup5_3.append(a)\n",
    "newgroup5_3 = dataprocess(rawgroup5_3)\n",
    "\n",
    "# n7 from G7\n",
    "rawgroup7_7 = []\n",
    "newgroup7_7 = []\n",
    "for i in range(len(name1)):\n",
    "    filename = \"dataset/all7/node7/transport_time_\" + name1[i] + \"byte.txt\"\n",
    "    a = np.loadtxt(filename)\n",
    "    rawgroup7_7.append(a)\n",
    "newgroup7_7 = dataprocess(rawgroup7_7)\n",
    "\n",
    "# n5 from G9\n",
    "rawgroup9_5 = []\n",
    "newgroup9_5 = []\n",
    "for i in range(len(name1)):\n",
    "    filename = \"dataset/all9/node5/transport_time_\" + name1[i] + \"byte.txt\"\n",
    "    a = np.loadtxt(filename)\n",
    "    rawgroup9_5.append(a)\n",
    "newgroup9_5 = dataprocess(rawgroup9_5)\n",
    "print(len(newgroup0_0))"
   ]
  },
  {
   "cell_type": "code",
   "execution_count": 12,
   "metadata": {},
   "outputs": [
    {
     "data": {
      "image/png": "[encoded data removed]",
      "text/plain": [
       "<Figure size 720x360 with 1 Axes>"
      ]
     },
     "metadata": {
      "needs_background": "light"
     },
     "output_type": "display_data"
    }
   ],
   "source": [
    "plt.figure(figsize=(10,5))#设置画布的尺寸\n",
    "plt.title('Boxplot of transport time in different data size',fontsize=20)#标题，并设定字号大小\n",
    "labels = ['x1','x2']#图例\n",
    "\n",
    "plt.boxplot(newgroup0_0, positions = [1,6,11], labels = ['256', '512', '1K'])#grid=False：代表不显示背景中的网格线\n",
    "plt.boxplot(newgroup2_1, positions = [2,7,12])#grid=False：代表不显示背景中的网格线\n",
    "plt.boxplot(newgroup5_3, positions = [3,8,13])#grid=False：代表不显示背景中的网格线\n",
    "plt.boxplot(newgroup7_7, positions = [4,9,14])#grid=False：代表不显示背景中的网格线\n",
    "plt.boxplot(newgroup9_5, positions = [5,10,15])#grid=False：代表不显示背景中的网格线\n",
    "\n",
    "# data.boxplot()#画箱型图的另一种方法，参数较少，而且只接受dataframe，不常用\n",
    "#plt.savefig('test data raw'+ num + '.jpg')\n",
    "my_x_ticks = np.arange(1, 16, 5)\n",
    "plt.xticks(my_x_ticks)\n",
    "plt.savefig('Q7_compare_small'+ num + '.png')\n",
    "plt.show()#显示图像"
   ]
  },
  {
   "cell_type": "code",
   "execution_count": 13,
   "metadata": {},
   "outputs": [],
   "source": [
    "# compare in one group\n",
    "# for Group4\n",
    "# n0 from G4\n",
    "rawgroup4_0 = []\n",
    "for i in range(len(names)):\n",
    "    filename = \"dataset/all4/node0/transport_time_\" + names[i] + \"byte.txt\"\n",
    "    a = np.loadtxt(filename)\n",
    "    rawgroup4_0.append(a)\n",
    "newgroup4_0 = dataprocess(rawgroup4_0)\n",
    "\n",
    "# n1 from G4\n",
    "rawgroup4_1 = []\n",
    "for i in range(len(names)):\n",
    "    filename = \"dataset/all4/node1/transport_time_\" + names[i] + \"byte.txt\"\n",
    "    a = np.loadtxt(filename)\n",
    "    rawgroup4_1.append(a)\n",
    "newgroup4_1 = dataprocess(rawgroup4_1)\n",
    "\n",
    "# n2 from G4\n",
    "rawgroup4_2 = []\n",
    "for i in range(len(names)):\n",
    "    filename = \"dataset/all4/node2/transport_time_\" + names[i] + \"byte.txt\"\n",
    "    a = np.loadtxt(filename)\n",
    "    rawgroup4_2.append(a)\n",
    "newgroup4_2 = dataprocess(rawgroup4_2)\n",
    "\n",
    "# n3 from G4\n",
    "rawgroup4_3 = []\n",
    "for i in range(len(names)):\n",
    "    filename = \"dataset/all4/node3/transport_time_\" + names[i] + \"byte.txt\"\n",
    "    a = np.loadtxt(filename)\n",
    "    rawgroup4_3.append(a)\n",
    "newgroup4_3 = dataprocess(rawgroup4_3)\n"
   ]
  },
  {
   "cell_type": "code",
   "execution_count": 14,
   "metadata": {},
   "outputs": [
    {
     "data": {
      "image/png": "[encoded data removed]",
      "text/plain": [
       "<Figure size 720x360 with 1 Axes>"
      ]
     },
     "metadata": {
      "needs_background": "light"
     },
     "output_type": "display_data"
    }
   ],
   "source": [
    "plt.figure(figsize=(10,5))#设置画布的尺寸\n",
    "plt.title('Boxplot of transport time in different data size for group4',fontsize=20)#标题，并设定字号大小\n",
    "labels = ['x1','x2']#图例\n",
    "plt.boxplot(newgroup4_0, positions = p1, labels = ['256', '512', '1K', '2K', '4K', '8K', '16K', '32K', '64K', '128K', '256K', '512K', '1M', '2M', '4M'])#grid=False：代表不显示背景中的网格线\n",
    "plt.boxplot(newgroup4_1, positions = p2)#grid=False：代表不显示背景中的网格线\n",
    "plt.boxplot(newgroup4_2, positions = p3)#grid=False：代表不显示背景中的网格线\n",
    "plt.boxplot(newgroup4_3, positions = p4)#grid=False：代表不显示背景中的网格线\n",
    "\n",
    "# data.boxplot()#画箱型图的另一种方法，参数较少，而且只接受dataframe，不常用\n",
    "#plt.savefig('test data raw'+ num + '.jpg')\n",
    "my_x_ticks = np.arange(0, 42.4, 3)\n",
    "plt.xticks(my_x_ticks)\n",
    "plt.savefig('Q7_g4'+ num + '.png')\n",
    "plt.show()#显示图像"
   ]
  },
  {
   "cell_type": "code",
   "execution_count": null,
   "metadata": {},
   "outputs": [],
   "source": []
  },
  {
   "cell_type": "code",
   "execution_count": null,
   "metadata": {},
   "outputs": [],
   "source": []
  },
  {
   "cell_type": "code",
   "execution_count": null,
   "metadata": {},
   "outputs": [],
   "source": []
  },
  {
   "cell_type": "code",
   "execution_count": null,
   "metadata": {},
   "outputs": [],
   "source": []
  },
  {
   "cell_type": "markdown",
   "metadata": {},
   "source": []
  },
  {
   "cell_type": "code",
   "execution_count": null,
   "metadata": {},
   "outputs": [],
   "source": []
  },
  {
   "cell_type": "code",
   "execution_count": null,
   "metadata": {},
   "outputs": [],
   "source": []
  },
  {
   "cell_type": "code",
   "execution_count": null,
   "metadata": {},
   "outputs": [],
   "source": []
  },
  {
   "cell_type": "code",
   "execution_count": null,
   "metadata": {},
   "outputs": [],
   "source": []
  },
  {
   "cell_type": "code",
   "execution_count": null,
   "metadata": {},
   "outputs": [],
   "source": []
  },
  {
   "cell_type": "code",
   "execution_count": null,
   "metadata": {},
   "outputs": [],
   "source": []
  },
  {
   "cell_type": "code",
   "execution_count": null,
   "metadata": {},
   "outputs": [],
   "source": []
  },
  {
   "cell_type": "code",
   "execution_count": null,
   "metadata": {},
   "outputs": [],
   "source": []
  },
  {
   "cell_type": "code",
   "execution_count": null,
   "metadata": {},
   "outputs": [],
   "source": []
  },
  {
   "cell_type": "code",
   "execution_count": null,
   "metadata": {},
   "outputs": [],
   "source": []
  },
  {
   "cell_type": "code",
   "execution_count": null,
   "metadata": {},
   "outputs": [],
   "source": []
  },
  {
   "cell_type": "code",
   "execution_count": null,
   "metadata": {},
   "outputs": [],
   "source": []
  },
  {
   "cell_type": "code",
   "execution_count": null,
   "metadata": {},
   "outputs": [],
   "source": []
  },
  {
   "cell_type": "code",
   "execution_count": null,
   "metadata": {},
   "outputs": [],
   "source": []
  },
  {
   "cell_type": "code",
   "execution_count": null,
   "metadata": {},
   "outputs": [],
   "source": []
  },
  {
   "cell_type": "code",
   "execution_count": null,
   "metadata": {},
   "outputs": [],
   "source": []
  },
  {
   "cell_type": "code",
   "execution_count": null,
   "metadata": {},
   "outputs": [],
   "source": []
  },
  {
   "cell_type": "code",
   "execution_count": null,
   "metadata": {},
   "outputs": [],
   "source": []
  },
  {
   "cell_type": "code",
   "execution_count": null,
   "metadata": {},
   "outputs": [],
   "source": []
  },
  {
   "cell_type": "code",
   "execution_count": null,
   "metadata": {},
   "outputs": [],
   "source": []
  },
  {
   "cell_type": "code",
   "execution_count": null,
   "metadata": {},
   "outputs": [],
   "source": []
  }
 ],
 "metadata": {
  "kernelspec": {
   "display_name": "Python 3",
   "language": "python",
   "name": "python3"
  },
  "language_info": {
   "codemirror_mode": {
    "name": "ipython",
    "version": 3
   },
   "file_extension": ".py",
   "mimetype": "text/x-python",
   "name": "python",
   "nbconvert_exporter": "python",
   "pygments_lexer": "ipython3",
   "version": "3.8.3"
  }
 },
 "nbformat": 4,
 "nbformat_minor": 4
}
